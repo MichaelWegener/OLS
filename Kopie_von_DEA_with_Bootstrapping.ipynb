{
  "nbformat": 4,
  "nbformat_minor": 0,
  "metadata": {
    "colab": {
      "name": "Kopie von DEA with Bootstrapping.ipynb",
      "provenance": [],
      "collapsed_sections": [],
      "authorship_tag": "ABX9TyOsNhaGTyzjmZt27SU9efno",
      "include_colab_link": true
    },
    "kernelspec": {
      "name": "ir",
      "display_name": "R"
    },
    "language_info": {
      "name": "R"
    }
  },
  "cells": [
    {
      "cell_type": "markdown",
      "metadata": {
        "id": "view-in-github",
        "colab_type": "text"
      },
      "source": [
        "<a href=\"https://colab.research.google.com/github/MichaelWegener/OLS/blob/master/Kopie_von_DEA_with_Bootstrapping.ipynb\" target=\"_parent\"><img src=\"https://colab.research.google.com/assets/colab-badge.svg\" alt=\"Open In Colab\"/></a>"
      ]
    },
    {
      "cell_type": "code",
      "execution_count": 5,
      "metadata": {
        "colab": {
          "base_uri": "https://localhost:8080/",
          "height": 0
        },
        "id": "x668IKwZtrCS",
        "outputId": "1ebf409c-4996-4e0e-9084-13e0497fdee8"
      },
      "outputs": [
        {
          "output_type": "stream",
          "name": "stderr",
          "text": [
            "Installing package into ‘/usr/local/lib/R/site-library’\n",
            "(as ‘lib’ is unspecified)\n",
            "\n",
            "Installing package into ‘/usr/local/lib/R/site-library’\n",
            "(as ‘lib’ is unspecified)\n",
            "\n"
          ]
        }
      ],
      "source": [
        "install.packages(\"deaR\")\n",
        "install.packages(\"betareg\")\n",
        "\n",
        "library(deaR)\n",
        "library(betareg)\n",
        "\n",
        "\n"
      ]
    },
    {
      "cell_type": "code",
      "source": [
        "my_data<-read.csv(\"/content/DEA Bootstrapping.csv\")\n",
        "data_example<-read_data(my_data, inputs = c(7,28,29,30,31), outputs = c(32,33,34), dmus = c(2))\n",
        "my_model_basic<-model_basic(datadea = data_example, rts = \"vrs\", orientation = \"oo\")\n",
        "\n",
        "efficiencies(my_model_basic)\n",
        "\n"
      ],
      "metadata": {
        "colab": {
          "base_uri": "https://localhost:8080/",
          "height": 173
        },
        "id": "ImYXTJ9ysdtE",
        "outputId": "9aa8a9b7-5239-4574-ee82-40a96087009a"
      },
      "execution_count": 6,
      "outputs": [
        {
          "output_type": "display_data",
          "data": {
            "text/html": [
              "<style>\n",
              ".dl-inline {width: auto; margin:0; padding: 0}\n",
              ".dl-inline>dt, .dl-inline>dd {float: none; width: auto; display: inline-block}\n",
              ".dl-inline>dt::after {content: \":\\0020\"; padding-right: .5ex}\n",
              ".dl-inline>dt:not(:first-of-type) {padding-left: .5ex}\n",
              "</style><dl class=dl-inline><dt>Acıbadem University</dt><dd>1</dd><dt>Adnan Menderes University</dt><dd>1.3273</dd><dt>Akdeniz University</dt><dd>1.5507</dd><dt>Ankara University</dt><dd>1</dd><dt>Atatürk University</dt><dd>1.26908</dd><dt>Atılım University</dt><dd>1</dd><dt>Bartın University</dt><dd>1</dd><dt>Bilkent University</dt><dd>1</dd><dt>Boğazıçı University</dt><dd>1</dd><dt>Bülent Ecevit University</dt><dd>1.18712</dd><dt>Canakkale University</dt><dd>1.07112</dd><dt>Celal Bayar University</dt><dd>1.24381</dd><dt>Cukurova Uni</dt><dd>1</dd><dt>Cumhuriyet University</dt><dd>1.26684</dd><dt>December 7 University of Kilis</dt><dd>1</dd><dt>Dokuz Eylül University</dt><dd>1.31731</dd><dt>Düzce University</dt><dd>1.15003</dd><dt>Ege University</dt><dd>1</dd><dt>Erciyes University</dt><dd>1</dd><dt>Fırat University</dt><dd>1.60306</dd><dt>Gazi University</dt><dd>1.00529</dd><dt>Gaziantep University</dt><dd>1</dd><dt>Gaziosman Paşa University</dt><dd>1</dd><dt>Gebze Technical University</dt><dd>1.20455</dd><dt>Hacettepe University</dt><dd>1</dd><dt>Hitit University</dt><dd>1</dd><dt>Inönü University</dt><dd>1.22995</dd><dt>Istanbul Medipol University</dt><dd>1.47985</dd><dt>Istanbul Technical University</dt><dd>1.19312</dd><dt>Istanbul University</dt><dd>1</dd><dt>İzmir Institute of Technology</dt><dd>1</dd><dt>Izmir University of Economics</dt><dd>1</dd><dt>Karabük University</dt><dd>1.14871</dd><dt>Karadeniz Technical University</dt><dd>1.48063</dd><dt>Koç University</dt><dd>1</dd><dt>Kocaeli University</dt><dd>1.7359</dd><dt>Marmara University</dt><dd>1</dd><dt>Mersin University</dt><dd>1</dd><dt>Middle East Technical University</dt><dd>1.04122</dd><dt>Ondokuz Mayis University</dt><dd>1.35973</dd><dt>Ozyegin University</dt><dd>1</dd><dt>Pamukkale University</dt><dd>1.44962</dd><dt>Sabancı University</dt><dd>1</dd><dt>Sakarya University</dt><dd>1.00399</dd><dt>Selcuk University</dt><dd>1.21303</dd><dt>Suleyman Demirel University</dt><dd>1.36493</dd><dt>TOBB University of Economics and Technology</dt><dd>1</dd><dt>Uludağ University</dt><dd>1</dd><dt>Yeditepe University</dt><dd>1</dd><dt>Yıldız Technical University</dt><dd>1.02634</dd></dl>\n"
            ],
            "text/markdown": "Acıbadem University\n:   1Adnan Menderes University\n:   1.3273Akdeniz University\n:   1.5507Ankara University\n:   1Atatürk University\n:   1.26908Atılım University\n:   1Bartın University\n:   1Bilkent University\n:   1Boğazıçı University\n:   1Bülent Ecevit University\n:   1.18712Canakkale University\n:   1.07112Celal Bayar University\n:   1.24381Cukurova Uni\n:   1Cumhuriyet University\n:   1.26684December 7 University of Kilis\n:   1Dokuz Eylül University\n:   1.31731Düzce University\n:   1.15003Ege University\n:   1Erciyes University\n:   1Fırat University\n:   1.60306Gazi University\n:   1.00529Gaziantep University\n:   1Gaziosman Paşa University\n:   1Gebze Technical University\n:   1.20455Hacettepe University\n:   1Hitit University\n:   1Inönü University\n:   1.22995Istanbul Medipol University\n:   1.47985Istanbul Technical University\n:   1.19312Istanbul University\n:   1İzmir Institute of Technology\n:   1Izmir University of Economics\n:   1Karabük University\n:   1.14871Karadeniz Technical University\n:   1.48063Koç University\n:   1Kocaeli University\n:   1.7359Marmara University\n:   1Mersin University\n:   1Middle East Technical University\n:   1.04122Ondokuz Mayis University\n:   1.35973Ozyegin University\n:   1Pamukkale University\n:   1.44962Sabancı University\n:   1Sakarya University\n:   1.00399Selcuk University\n:   1.21303Suleyman Demirel University\n:   1.36493TOBB University of Economics and Technology\n:   1Uludağ University\n:   1Yeditepe University\n:   1Yıldız Technical University\n:   1.02634\n\n",
            "text/latex": "\\begin{description*}\n\\item[Acıbadem University] 1\n\\item[Adnan Menderes University] 1.3273\n\\item[Akdeniz University] 1.5507\n\\item[Ankara University] 1\n\\item[Atatürk University] 1.26908\n\\item[Atılım University] 1\n\\item[Bartın University] 1\n\\item[Bilkent University] 1\n\\item[Boğazıçı University] 1\n\\item[Bülent Ecevit University] 1.18712\n\\item[Canakkale University] 1.07112\n\\item[Celal Bayar University] 1.24381\n\\item[Cukurova Uni] 1\n\\item[Cumhuriyet University] 1.26684\n\\item[December 7 University of Kilis] 1\n\\item[Dokuz Eylül University] 1.31731\n\\item[Düzce University] 1.15003\n\\item[Ege University] 1\n\\item[Erciyes University] 1\n\\item[Fırat University] 1.60306\n\\item[Gazi University] 1.00529\n\\item[Gaziantep University] 1\n\\item[Gaziosman Paşa University] 1\n\\item[Gebze Technical University] 1.20455\n\\item[Hacettepe University] 1\n\\item[Hitit University] 1\n\\item[Inönü University] 1.22995\n\\item[Istanbul Medipol University] 1.47985\n\\item[Istanbul Technical University] 1.19312\n\\item[Istanbul University] 1\n\\item[İzmir Institute of Technology] 1\n\\item[Izmir University of Economics] 1\n\\item[Karabük University] 1.14871\n\\item[Karadeniz Technical University] 1.48063\n\\item[Koç University] 1\n\\item[Kocaeli University] 1.7359\n\\item[Marmara University] 1\n\\item[Mersin University] 1\n\\item[Middle East Technical University] 1.04122\n\\item[Ondokuz Mayis University] 1.35973\n\\item[Ozyegin University] 1\n\\item[Pamukkale University] 1.44962\n\\item[Sabancı University] 1\n\\item[Sakarya University] 1.00399\n\\item[Selcuk University] 1.21303\n\\item[Suleyman Demirel University] 1.36493\n\\item[TOBB University of Economics and Technology] 1\n\\item[Uludağ University] 1\n\\item[Yeditepe University] 1\n\\item[Yıldız Technical University] 1.02634\n\\end{description*}\n",
            "text/plain": [
              "                        Acıbadem University \n",
              "                                    1.00000 \n",
              "                  Adnan Menderes University \n",
              "                                    1.32730 \n",
              "                         Akdeniz University \n",
              "                                    1.55070 \n",
              "                          Ankara University \n",
              "                                    1.00000 \n",
              "                         Atatürk University \n",
              "                                    1.26908 \n",
              "                          Atılım University \n",
              "                                    1.00000 \n",
              "                          Bartın University \n",
              "                                    1.00000 \n",
              "                         Bilkent University \n",
              "                                    1.00000 \n",
              "                        Boğazıçı University \n",
              "                                    1.00000 \n",
              "                   Bülent Ecevit University \n",
              "                                    1.18712 \n",
              "                       Canakkale University \n",
              "                                    1.07112 \n",
              "                     Celal Bayar University \n",
              "                                    1.24381 \n",
              "                               Cukurova Uni \n",
              "                                    1.00000 \n",
              "                      Cumhuriyet University \n",
              "                                    1.26684 \n",
              "             December 7 University of Kilis \n",
              "                                    1.00000 \n",
              "                     Dokuz Eylül University \n",
              "                                    1.31731 \n",
              "                           Düzce University \n",
              "                                    1.15003 \n",
              "                             Ege University \n",
              "                                    1.00000 \n",
              "                         Erciyes University \n",
              "                                    1.00000 \n",
              "                           Fırat University \n",
              "                                    1.60306 \n",
              "                            Gazi University \n",
              "                                    1.00529 \n",
              "                       Gaziantep University \n",
              "                                    1.00000 \n",
              "                  Gaziosman Paşa University \n",
              "                                    1.00000 \n",
              "                 Gebze Technical University \n",
              "                                    1.20455 \n",
              "                       Hacettepe University \n",
              "                                    1.00000 \n",
              "                           Hitit University \n",
              "                                    1.00000 \n",
              "                           Inönü University \n",
              "                                    1.22995 \n",
              "                Istanbul Medipol University \n",
              "                                    1.47985 \n",
              "              Istanbul Technical University \n",
              "                                    1.19312 \n",
              "                        Istanbul University \n",
              "                                    1.00000 \n",
              "              İzmir Institute of Technology \n",
              "                                    1.00000 \n",
              "              Izmir University of Economics \n",
              "                                    1.00000 \n",
              "                         Karabük University \n",
              "                                    1.14871 \n",
              "             Karadeniz Technical University \n",
              "                                    1.48063 \n",
              "                             Koç University \n",
              "                                    1.00000 \n",
              "                         Kocaeli University \n",
              "                                    1.73590 \n",
              "                         Marmara University \n",
              "                                    1.00000 \n",
              "                          Mersin University \n",
              "                                    1.00000 \n",
              "           Middle East Technical University \n",
              "                                    1.04122 \n",
              "                   Ondokuz Mayis University \n",
              "                                    1.35973 \n",
              "                         Ozyegin University \n",
              "                                    1.00000 \n",
              "                       Pamukkale University \n",
              "                                    1.44962 \n",
              "                         Sabancı University \n",
              "                                    1.00000 \n",
              "                         Sakarya University \n",
              "                                    1.00399 \n",
              "                          Selcuk University \n",
              "                                    1.21303 \n",
              "                Suleyman Demirel University \n",
              "                                    1.36493 \n",
              "TOBB University of Economics and Technology \n",
              "                                    1.00000 \n",
              "                          Uludağ University \n",
              "                                    1.00000 \n",
              "                        Yeditepe University \n",
              "                                    1.00000 \n",
              "                Yıldız Technical University \n",
              "                                    1.02634 "
            ]
          },
          "metadata": {}
        }
      ]
    },
    {
      "cell_type": "code",
      "source": [
        "results<-bootstrap_basic(datadea = data_example, rts = \"vrs\", orientation = \"oo\", B=10000, alpha = 0.05)"
      ],
      "metadata": {
        "id": "wjd6u6hEymVB"
      },
      "execution_count": 7,
      "outputs": []
    },
    {
      "cell_type": "code",
      "source": [
        "results$CI"
      ],
      "metadata": {
        "colab": {
          "base_uri": "https://localhost:8080/",
          "height": 1666
        },
        "id": "lWmsv6mOYRMd",
        "outputId": "01cb5475-cbcd-4b6f-d0a5-832f6b2ea0e6"
      },
      "execution_count": 8,
      "outputs": [
        {
          "output_type": "display_data",
          "data": {
            "text/html": [
              "<table class=\"dataframe\">\n",
              "<caption>A data.frame: 50 × 2</caption>\n",
              "<thead>\n",
              "\t<tr><th></th><th scope=col>CI_low</th><th scope=col>CI_up</th></tr>\n",
              "\t<tr><th></th><th scope=col>&lt;dbl&gt;</th><th scope=col>&lt;dbl&gt;</th></tr>\n",
              "</thead>\n",
              "<tbody>\n",
              "\t<tr><th scope=row>Acıbadem University</th><td>1.000815</td><td>1.378733</td></tr>\n",
              "\t<tr><th scope=row>Adnan Menderes University</th><td>1.328375</td><td>1.470687</td></tr>\n",
              "\t<tr><th scope=row>Akdeniz University</th><td>1.551909</td><td>1.740192</td></tr>\n",
              "\t<tr><th scope=row>Ankara University</th><td>1.000822</td><td>1.314282</td></tr>\n",
              "\t<tr><th scope=row>Atatürk University</th><td>1.270024</td><td>1.504044</td></tr>\n",
              "\t<tr><th scope=row>Atılım University</th><td>1.000790</td><td>1.263413</td></tr>\n",
              "\t<tr><th scope=row>Bartın University</th><td>1.000825</td><td>1.382387</td></tr>\n",
              "\t<tr><th scope=row>Bilkent University</th><td>1.000896</td><td>1.379634</td></tr>\n",
              "\t<tr><th scope=row>Boğazıçı University</th><td>1.000894</td><td>1.283528</td></tr>\n",
              "\t<tr><th scope=row>Bülent Ecevit University</th><td>1.188116</td><td>1.343138</td></tr>\n",
              "\t<tr><th scope=row>Canakkale University</th><td>1.072032</td><td>1.122085</td></tr>\n",
              "\t<tr><th scope=row>Celal Bayar University</th><td>1.244810</td><td>1.370499</td></tr>\n",
              "\t<tr><th scope=row>Cukurova Uni</th><td>1.000824</td><td>1.199380</td></tr>\n",
              "\t<tr><th scope=row>Cumhuriyet University</th><td>1.267882</td><td>1.328488</td></tr>\n",
              "\t<tr><th scope=row>December 7 University of Kilis</th><td>1.000742</td><td>1.380781</td></tr>\n",
              "\t<tr><th scope=row>Dokuz Eylül University</th><td>1.318293</td><td>1.544995</td></tr>\n",
              "\t<tr><th scope=row>Düzce University</th><td>1.150921</td><td>1.260999</td></tr>\n",
              "\t<tr><th scope=row>Ege University</th><td>1.000763</td><td>1.258077</td></tr>\n",
              "\t<tr><th scope=row>Erciyes University</th><td>1.000757</td><td>1.087269</td></tr>\n",
              "\t<tr><th scope=row>Fırat University</th><td>1.604382</td><td>1.805176</td></tr>\n",
              "\t<tr><th scope=row>Gazi University</th><td>1.006057</td><td>1.165974</td></tr>\n",
              "\t<tr><th scope=row>Gaziantep University</th><td>1.000884</td><td>1.252714</td></tr>\n",
              "\t<tr><th scope=row>Gaziosman Paşa University</th><td>1.000816</td><td>1.380406</td></tr>\n",
              "\t<tr><th scope=row>Gebze Technical University</th><td>1.205385</td><td>1.450571</td></tr>\n",
              "\t<tr><th scope=row>Hacettepe University</th><td>1.000837</td><td>1.129907</td></tr>\n",
              "\t<tr><th scope=row>Hitit University</th><td>1.000836</td><td>1.281063</td></tr>\n",
              "\t<tr><th scope=row>Inönü University</th><td>1.230996</td><td>1.359828</td></tr>\n",
              "\t<tr><th scope=row>Istanbul Medipol University</th><td>1.481006</td><td>1.620390</td></tr>\n",
              "\t<tr><th scope=row>Istanbul Technical University</th><td>1.194062</td><td>1.383721</td></tr>\n",
              "\t<tr><th scope=row>Istanbul University</th><td>1.000805</td><td>1.166532</td></tr>\n",
              "\t<tr><th scope=row>İzmir Institute of Technology</th><td>1.000802</td><td>1.378628</td></tr>\n",
              "\t<tr><th scope=row>Izmir University of Economics</th><td>1.000870</td><td>1.379961</td></tr>\n",
              "\t<tr><th scope=row>Karabük University</th><td>1.149648</td><td>1.305136</td></tr>\n",
              "\t<tr><th scope=row>Karadeniz Technical University</th><td>1.481894</td><td>1.578575</td></tr>\n",
              "\t<tr><th scope=row>Koç University</th><td>1.000883</td><td>1.255771</td></tr>\n",
              "\t<tr><th scope=row>Kocaeli University</th><td>1.737274</td><td>1.914312</td></tr>\n",
              "\t<tr><th scope=row>Marmara University</th><td>1.000780</td><td>1.379831</td></tr>\n",
              "\t<tr><th scope=row>Mersin University</th><td>1.000864</td><td>1.316500</td></tr>\n",
              "\t<tr><th scope=row>Middle East Technical University</th><td>1.042009</td><td>1.157746</td></tr>\n",
              "\t<tr><th scope=row>Ondokuz Mayis University</th><td>1.360812</td><td>1.595676</td></tr>\n",
              "\t<tr><th scope=row>Ozyegin University</th><td>1.000863</td><td>1.379521</td></tr>\n",
              "\t<tr><th scope=row>Pamukkale University</th><td>1.450767</td><td>1.689550</td></tr>\n",
              "\t<tr><th scope=row>Sabancı University</th><td>1.000854</td><td>1.379085</td></tr>\n",
              "\t<tr><th scope=row>Sakarya University</th><td>1.004771</td><td>1.091023</td></tr>\n",
              "\t<tr><th scope=row>Selcuk University</th><td>1.213918</td><td>1.346774</td></tr>\n",
              "\t<tr><th scope=row>Suleyman Demirel University</th><td>1.365975</td><td>1.438651</td></tr>\n",
              "\t<tr><th scope=row>TOBB University of Economics and Technology</th><td>1.000772</td><td>1.378590</td></tr>\n",
              "\t<tr><th scope=row>Uludağ University</th><td>1.000869</td><td>1.257335</td></tr>\n",
              "\t<tr><th scope=row>Yeditepe University</th><td>1.000751</td><td>1.381219</td></tr>\n",
              "\t<tr><th scope=row>Yıldız Technical University</th><td>1.027162</td><td>1.209028</td></tr>\n",
              "</tbody>\n",
              "</table>\n"
            ],
            "text/markdown": "\nA data.frame: 50 × 2\n\n| <!--/--> | CI_low &lt;dbl&gt; | CI_up &lt;dbl&gt; |\n|---|---|---|\n| Acıbadem University | 1.000815 | 1.378733 |\n| Adnan Menderes University | 1.328375 | 1.470687 |\n| Akdeniz University | 1.551909 | 1.740192 |\n| Ankara University | 1.000822 | 1.314282 |\n| Atatürk University | 1.270024 | 1.504044 |\n| Atılım University | 1.000790 | 1.263413 |\n| Bartın University | 1.000825 | 1.382387 |\n| Bilkent University | 1.000896 | 1.379634 |\n| Boğazıçı University | 1.000894 | 1.283528 |\n| Bülent Ecevit University | 1.188116 | 1.343138 |\n| Canakkale University | 1.072032 | 1.122085 |\n| Celal Bayar University | 1.244810 | 1.370499 |\n| Cukurova Uni | 1.000824 | 1.199380 |\n| Cumhuriyet University | 1.267882 | 1.328488 |\n| December 7 University of Kilis | 1.000742 | 1.380781 |\n| Dokuz Eylül University | 1.318293 | 1.544995 |\n| Düzce University | 1.150921 | 1.260999 |\n| Ege University | 1.000763 | 1.258077 |\n| Erciyes University | 1.000757 | 1.087269 |\n| Fırat University | 1.604382 | 1.805176 |\n| Gazi University | 1.006057 | 1.165974 |\n| Gaziantep University | 1.000884 | 1.252714 |\n| Gaziosman Paşa University | 1.000816 | 1.380406 |\n| Gebze Technical University | 1.205385 | 1.450571 |\n| Hacettepe University | 1.000837 | 1.129907 |\n| Hitit University | 1.000836 | 1.281063 |\n| Inönü University | 1.230996 | 1.359828 |\n| Istanbul Medipol University | 1.481006 | 1.620390 |\n| Istanbul Technical University | 1.194062 | 1.383721 |\n| Istanbul University | 1.000805 | 1.166532 |\n| İzmir Institute of Technology | 1.000802 | 1.378628 |\n| Izmir University of Economics | 1.000870 | 1.379961 |\n| Karabük University | 1.149648 | 1.305136 |\n| Karadeniz Technical University | 1.481894 | 1.578575 |\n| Koç University | 1.000883 | 1.255771 |\n| Kocaeli University | 1.737274 | 1.914312 |\n| Marmara University | 1.000780 | 1.379831 |\n| Mersin University | 1.000864 | 1.316500 |\n| Middle East Technical University | 1.042009 | 1.157746 |\n| Ondokuz Mayis University | 1.360812 | 1.595676 |\n| Ozyegin University | 1.000863 | 1.379521 |\n| Pamukkale University | 1.450767 | 1.689550 |\n| Sabancı University | 1.000854 | 1.379085 |\n| Sakarya University | 1.004771 | 1.091023 |\n| Selcuk University | 1.213918 | 1.346774 |\n| Suleyman Demirel University | 1.365975 | 1.438651 |\n| TOBB University of Economics and Technology | 1.000772 | 1.378590 |\n| Uludağ University | 1.000869 | 1.257335 |\n| Yeditepe University | 1.000751 | 1.381219 |\n| Yıldız Technical University | 1.027162 | 1.209028 |\n\n",
            "text/latex": "A data.frame: 50 × 2\n\\begin{tabular}{r|ll}\n  & CI\\_low & CI\\_up\\\\\n  & <dbl> & <dbl>\\\\\n\\hline\n\tAcıbadem University & 1.000815 & 1.378733\\\\\n\tAdnan Menderes University & 1.328375 & 1.470687\\\\\n\tAkdeniz University & 1.551909 & 1.740192\\\\\n\tAnkara University & 1.000822 & 1.314282\\\\\n\tAtatürk University & 1.270024 & 1.504044\\\\\n\tAtılım University & 1.000790 & 1.263413\\\\\n\tBartın University & 1.000825 & 1.382387\\\\\n\tBilkent University & 1.000896 & 1.379634\\\\\n\tBoğazıçı University & 1.000894 & 1.283528\\\\\n\tBülent Ecevit University & 1.188116 & 1.343138\\\\\n\tCanakkale University & 1.072032 & 1.122085\\\\\n\tCelal Bayar University & 1.244810 & 1.370499\\\\\n\tCukurova Uni & 1.000824 & 1.199380\\\\\n\tCumhuriyet University & 1.267882 & 1.328488\\\\\n\tDecember 7 University of Kilis & 1.000742 & 1.380781\\\\\n\tDokuz Eylül University & 1.318293 & 1.544995\\\\\n\tDüzce University & 1.150921 & 1.260999\\\\\n\tEge University & 1.000763 & 1.258077\\\\\n\tErciyes University & 1.000757 & 1.087269\\\\\n\tFırat University & 1.604382 & 1.805176\\\\\n\tGazi University & 1.006057 & 1.165974\\\\\n\tGaziantep University & 1.000884 & 1.252714\\\\\n\tGaziosman Paşa University & 1.000816 & 1.380406\\\\\n\tGebze Technical University & 1.205385 & 1.450571\\\\\n\tHacettepe University & 1.000837 & 1.129907\\\\\n\tHitit University & 1.000836 & 1.281063\\\\\n\tInönü University & 1.230996 & 1.359828\\\\\n\tIstanbul Medipol University & 1.481006 & 1.620390\\\\\n\tIstanbul Technical University & 1.194062 & 1.383721\\\\\n\tIstanbul University & 1.000805 & 1.166532\\\\\n\tİzmir Institute of Technology & 1.000802 & 1.378628\\\\\n\tIzmir University of Economics & 1.000870 & 1.379961\\\\\n\tKarabük University & 1.149648 & 1.305136\\\\\n\tKaradeniz Technical University & 1.481894 & 1.578575\\\\\n\tKoç University & 1.000883 & 1.255771\\\\\n\tKocaeli University & 1.737274 & 1.914312\\\\\n\tMarmara University & 1.000780 & 1.379831\\\\\n\tMersin University & 1.000864 & 1.316500\\\\\n\tMiddle East Technical University & 1.042009 & 1.157746\\\\\n\tOndokuz Mayis University & 1.360812 & 1.595676\\\\\n\tOzyegin University & 1.000863 & 1.379521\\\\\n\tPamukkale University & 1.450767 & 1.689550\\\\\n\tSabancı University & 1.000854 & 1.379085\\\\\n\tSakarya University & 1.004771 & 1.091023\\\\\n\tSelcuk University & 1.213918 & 1.346774\\\\\n\tSuleyman Demirel University & 1.365975 & 1.438651\\\\\n\tTOBB University of Economics and Technology & 1.000772 & 1.378590\\\\\n\tUludağ University & 1.000869 & 1.257335\\\\\n\tYeditepe University & 1.000751 & 1.381219\\\\\n\tYıldız Technical University & 1.027162 & 1.209028\\\\\n\\end{tabular}\n",
            "text/plain": [
              "                                            CI_low   CI_up   \n",
              "Acıbadem University                         1.000815 1.378733\n",
              "Adnan Menderes University                   1.328375 1.470687\n",
              "Akdeniz University                          1.551909 1.740192\n",
              "Ankara University                           1.000822 1.314282\n",
              "Atatürk University                          1.270024 1.504044\n",
              "Atılım University                           1.000790 1.263413\n",
              "Bartın University                           1.000825 1.382387\n",
              "Bilkent University                          1.000896 1.379634\n",
              "Boğazıçı University                         1.000894 1.283528\n",
              "Bülent Ecevit University                    1.188116 1.343138\n",
              "Canakkale University                        1.072032 1.122085\n",
              "Celal Bayar University                      1.244810 1.370499\n",
              "Cukurova Uni                                1.000824 1.199380\n",
              "Cumhuriyet University                       1.267882 1.328488\n",
              "December 7 University of Kilis              1.000742 1.380781\n",
              "Dokuz Eylül University                      1.318293 1.544995\n",
              "Düzce University                            1.150921 1.260999\n",
              "Ege University                              1.000763 1.258077\n",
              "Erciyes University                          1.000757 1.087269\n",
              "Fırat University                            1.604382 1.805176\n",
              "Gazi University                             1.006057 1.165974\n",
              "Gaziantep University                        1.000884 1.252714\n",
              "Gaziosman Paşa University                   1.000816 1.380406\n",
              "Gebze Technical University                  1.205385 1.450571\n",
              "Hacettepe University                        1.000837 1.129907\n",
              "Hitit University                            1.000836 1.281063\n",
              "Inönü University                            1.230996 1.359828\n",
              "Istanbul Medipol University                 1.481006 1.620390\n",
              "Istanbul Technical University               1.194062 1.383721\n",
              "Istanbul University                         1.000805 1.166532\n",
              "İzmir Institute of Technology               1.000802 1.378628\n",
              "Izmir University of Economics               1.000870 1.379961\n",
              "Karabük University                          1.149648 1.305136\n",
              "Karadeniz Technical University              1.481894 1.578575\n",
              "Koç University                              1.000883 1.255771\n",
              "Kocaeli University                          1.737274 1.914312\n",
              "Marmara University                          1.000780 1.379831\n",
              "Mersin University                           1.000864 1.316500\n",
              "Middle East Technical University            1.042009 1.157746\n",
              "Ondokuz Mayis University                    1.360812 1.595676\n",
              "Ozyegin University                          1.000863 1.379521\n",
              "Pamukkale University                        1.450767 1.689550\n",
              "Sabancı University                          1.000854 1.379085\n",
              "Sakarya University                          1.004771 1.091023\n",
              "Selcuk University                           1.213918 1.346774\n",
              "Suleyman Demirel University                 1.365975 1.438651\n",
              "TOBB University of Economics and Technology 1.000772 1.378590\n",
              "Uludağ University                           1.000869 1.257335\n",
              "Yeditepe University                         1.000751 1.381219\n",
              "Yıldız Technical University                 1.027162 1.209028"
            ]
          },
          "metadata": {}
        }
      ]
    },
    {
      "cell_type": "code",
      "source": [
        "i<-0\n",
        "mybiglist <- c()\n",
        "for(name in results$score){\n",
        "    i<-i+1\n",
        "    mybiglist <- cbind(a, d)\n",
        "    mybiglist[[i]]<-1/results$score[[i]]\n",
        "\n",
        "}"
      ],
      "metadata": {
        "id": "o01n-sqkaZmW"
      },
      "execution_count": 15,
      "outputs": []
    },
    {
      "cell_type": "code",
      "source": [
        "my_data$DEA <- mybiglist\n",
        "my_data$DEA <- as.integer(my_data$DEA)\n",
        "\n",
        "\n",
        "dea_data<-my_data[,c(\"DEA\")]\n",
        "dea_data<-(dea_data*49+0.5)/50\n",
        "my_data$DEA_Transform<-dea_data"
      ],
      "metadata": {
        "id": "8wUDKMBocZa9"
      },
      "execution_count": 21,
      "outputs": []
    },
    {
      "cell_type": "code",
      "source": [
        "dea_logit<-betareg(DEA_Transform~Age+Status+Size, data=my_data, link=\"logit\")\n",
        "summary(dea_logit)"
      ],
      "metadata": {
        "colab": {
          "base_uri": "https://localhost:8080/",
          "height": 503
        },
        "id": "C-PfBUiGgeVw",
        "outputId": "eff1999a-f622-4089-cdbd-8323600143aa"
      },
      "execution_count": 22,
      "outputs": [
        {
          "output_type": "display_data",
          "data": {
            "text/plain": [
              "\n",
              "Call:\n",
              "betareg(formula = DEA_Transform ~ Age + Status + Size, data = my_data, \n",
              "    link = \"logit\")\n",
              "\n",
              "Standardized weighted residuals 2:\n",
              "    Min      1Q  Median      3Q     Max \n",
              "-1.5009 -0.5232 -0.3103  0.5065  1.4431 \n",
              "\n",
              "Coefficients (mean model with logit link):\n",
              "              Estimate Std. Error z value Pr(>|z|)  \n",
              "(Intercept)   0.199278   0.649119   0.307    0.759  \n",
              "Age           0.009205   0.011424   0.806    0.420  \n",
              "StatusPublic  0.349876   0.631253   0.554    0.579  \n",
              "SizeM        -1.201639   0.754743  -1.592    0.111  \n",
              "SizeS         0.563527   0.784370   0.718    0.472  \n",
              "SizeXL       -1.367874   0.588034  -2.326    0.020 *\n",
              "\n",
              "Phi coefficients (precision model with identity link):\n",
              "      Estimate Std. Error z value Pr(>|z|)    \n",
              "(phi)  0.59563    0.09534   6.248 4.17e-10 ***\n",
              "---\n",
              "Signif. codes:  0 '***' 0.001 '**' 0.01 '*' 0.05 '.' 0.1 ' ' 1 \n",
              "\n",
              "Type of estimator: ML (maximum likelihood)\n",
              "Log-likelihood:  77.6 on 7 Df\n",
              "Pseudo R-squared: 0.2729\n",
              "Number of iterations: 15 (BFGS) + 3 (Fisher scoring) "
            ]
          },
          "metadata": {}
        }
      ]
    }
  ]
}